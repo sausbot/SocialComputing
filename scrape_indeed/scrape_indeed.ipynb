{
 "cells": [
  {
   "cell_type": "markdown",
   "metadata": {},
   "source": [
    "# Selenium Experiment Assignment"
   ]
  },
  {
   "cell_type": "markdown",
   "metadata": {},
   "source": [
    "## Before you start: Selenium Download\n",
    "For the next exercises you will have to use Selenium. \n",
    "\n",
    "You can read more about the webdriver here (https://chromedriver.chromium.org), but if you want to go straight to the download, go to https://chromedriver.storage.googleapis.com/index.html?path=89.0.4389.23/ and download your version. \n",
    "\n",
    "The steps to get Selenium to work are:\n",
    "1. download webdriver\n",
    "2. extract\n",
    "3. Add to Path\n",
    "4. install selenium from terminal (e.g. `pip install selenium`)\n",
    "\n",
    "Once this is done, you should be able to run:\n",
    "- `from selenium import webdriver`\n",
    "- `browser = webdriver.Chrome([the path where you put the googlechromedriver])`\n",
    "\n",
    "In case of any issues, the https://chromedriver.chromium.org website has some straightforward info on common bugs. "
   ]
  },
  {
   "cell_type": "markdown",
   "metadata": {},
   "source": [
    "## Selenium Sessions"
   ]
  },
  {
   "cell_type": "markdown",
   "metadata": {},
   "source": [
    "Go to a website of your choice where you have an account. It can for example be the New York Times APi website where you created a login last time but also tutti.ch, comparis, whatever simple website you often use.\n",
    "\n",
    "Using Selenium create a session where you \n",
    "1. go to the main website \n",
    "2. log in \n",
    "3. click on an element of your choice \n",
    "4. scroll to the bottom of the page\n",
    "5. then save the page. \n",
    "\n",
    "When logging in, you will have to find the name of the login form and submit your credentials to it and then click the login button. Here you find an example for a login using selenium but in case you decide to use this help, Facebook should not be your chosen website. https://crossbrowsertesting.com/blog/test-automation/automate-login-with-selenium/\n",
    " \n",
    "Tip: Website uses captcha? You can put your script to sleep for some number of seconds by using time.sleep() function and enter captcha manually."
   ]
  },
  {
   "cell_type": "code",
   "execution_count": 33,
   "metadata": {},
   "outputs": [],
   "source": [
    "# passwords removed for security\n",
    "EMAIL = \"\"\n",
    "PASS = \"\"\n",
    "INDEED_PASS = \"\""
   ]
  },
  {
   "cell_type": "code",
   "execution_count": 34,
   "metadata": {},
   "outputs": [
    {
     "name": "stderr",
     "output_type": "stream",
     "text": [
      "\n",
      "\n",
      "====== WebDriver manager ======\n",
      "Current google-chrome version is 100.0.4896\n",
      "Get LATEST chromedriver version for 100.0.4896 google-chrome\n",
      "Driver [C:\\Users\\sausbot\\.wdm\\drivers\\chromedriver\\win32\\100.0.4896.60\\chromedriver.exe] found in cache\n"
     ]
    }
   ],
   "source": [
    "import time\n",
    "\n",
    "from selenium import webdriver\n",
    "# This avoids having to set the path manually\n",
    "# need to 'pip install pip install webdriver-manager'\n",
    "from webdriver_manager.chrome import ChromeDriverManager\n",
    "\n",
    "driver = webdriver.Chrome(ChromeDriverManager().install())\n",
    "\n",
    "# go to main website\n",
    "driver.get(\"https://www.hackerrank.com/auth/login\")\n",
    "\n",
    "# login with credentials\n",
    "driver.find_element_by_id(\"input-1\").send_keys(EMAIL)\n",
    "driver.find_element_by_id(\"input-2\").send_keys(PASS)\n",
    "driver.find_element_by_xpath(\"//span[contains(text(), 'Log In')]\").click()\n",
    "\n",
    "# wait for page to load\n",
    "time.sleep(3)\n",
    "\n",
    "# click on element of choice\n",
    "driver.find_element_by_link_text(\"Bookmarked Challenges\").click()\n",
    "\n",
    "# scroll to bottom\n",
    "driver.execute_script(\"window.scrollTo(0,document.body.scrollHeight)\")\n",
    "\n",
    "# save the page\n",
    "with open('selenium_page.html', 'w') as f:\n",
    "    f.write(driver.page_source)"
   ]
  },
  {
   "cell_type": "markdown",
   "metadata": {},
   "source": [
    "## Measuring personalization"
   ]
  },
  {
   "cell_type": "markdown",
   "metadata": {},
   "source": [
    "In this exercise you will have to imitate the study described in class on a website of your interest. You will have to measure differences in the content that you receive back from the website under varying treatments. \n",
    "\n",
    "You will have to choose a website and a treatment. Use selenium for this exercise as well. \n",
    "- As for websites, you can pick an online store, or traveling site, some news site, Google News.. basically try to pick something that you suspect gives different results for different searchers. \n",
    "- Examples for treatments would be location, being logged in with an account, history with the website, being on a phone vs a desktop, etc. \n",
    "- You can try to pick multiple searches to make sure you are measuring real phenomenon, not only noise\n",
    "- You can include a control treatment in case you suspect there's A/B testing or noise in how the pages look\n",
    "- Finally you have to pick a measure for the differences on the page. In case you receive items on a page, for example URLs or products, you can define an overlap metric. In case the page is more unstructured, come up with an explanation for how you define differences.\n",
    "\n",
    "As your answer, explain which of the above you chose, how you implemented the experiment, and what difference you found in the pages you collected. \n",
    "\n",
    "You can find more info on how to run multiple browsers at the same time here: https://crossbrowsertesting.com/blog/selenium/run-test-multiple-browsers-parallel-selenium/"
   ]
  },
  {
   "cell_type": "code",
   "execution_count": 38,
   "metadata": {},
   "outputs": [
    {
     "name": "stderr",
     "output_type": "stream",
     "text": [
      "\n",
      "\n",
      "====== WebDriver manager ======\n",
      "Current google-chrome version is 100.0.4896\n",
      "Get LATEST chromedriver version for 100.0.4896 google-chrome\n",
      "Driver [C:\\Users\\sausbot\\.wdm\\drivers\\chromedriver\\win32\\100.0.4896.60\\chromedriver.exe] found in cache\n"
     ]
    },
    {
     "name": "stdout",
     "output_type": "stream",
     "text": [
      "[['.Net Developer', 'CompTrak', 'Temporarily Remote in Aurora, ON', '$60,000 - $85,000 a year'], ['Computer Programmer', 'Highlight Motor Freight Inc.', 'Vaughan, ON', '$39 an hour'], ['new', 'Software Developer', 'Milano Software2.3', 'Temporarily Remote in Richmond Hill, ON', '$60,000 - $80,000 a year'], ['ROBOTICS SOFTWARE ENGINEER', 'Maple Advanced Robotics Inc', 'Greater Toronto Area, ON', '$80,000 a year'], ['new', 'C# Software Developer', 'Molarray Research Inc.', 'Richmond Hill, ON', '$60,000 - $90,000 a year'], ['Software Engineer', 'Clutch Canada', 'Toronto, ON', '$90,000 - $155,000 a year'], ['new', 'Software Engineer', 'Akamori Designs', 'Remote in Toronto, ON', '$20 - $32 an hour'], ['Founding Engineer / Software Developer', 'Ratio', 'Toronto, ON', '$100,000 - $200,000 a year'], ['Software Engineer', 'iPartner Staffing4.5', 'Toronto, ON', '$60 - $70 an hour'], ['new', 'Application Developer', 'Intellifi Corporation (formerly Delta 360 Inc.)', 'Temporarily Remote in Markham, ON', '$50,000 - $95,000 a year'], ['Software Engineer', 'Aescurobot', 'Markham, ON', '$80,000 - $115,000 a year'], ['Software Engineer | Front-End (Flutter)', 'CMiC3.2', 'Remote in Toronto, ON'], ['new', 'Software Developer', 'Interactive Sports Technologies Inc.', 'Concord, ON', '$20 - $29 an hour'], ['Backend C#.NET / MS SQL Software Developer', 'Affinity Global (Global Credit & Collection Inc.)3.1', 'Markham, ON', '$70,000 - $90,000 a year'], ['Sr. Software Engineer (Web 3.0)', 'ClancyWorld', 'Remote in Ontario', '$150,000 a year']]\n"
     ]
    },
    {
     "name": "stderr",
     "output_type": "stream",
     "text": [
      "\n",
      "\n",
      "====== WebDriver manager ======\n",
      "Current google-chrome version is 100.0.4896\n",
      "Get LATEST chromedriver version for 100.0.4896 google-chrome\n",
      "Driver [C:\\Users\\sausbot\\.wdm\\drivers\\chromedriver\\win32\\100.0.4896.60\\chromedriver.exe] found in cache\n"
     ]
    },
    {
     "name": "stdout",
     "output_type": "stream",
     "text": [
      "[['new', 'C# Software Developer', 'Molarray Research Inc.', 'Richmond Hill, ON', '$60,000 - $90,000 a year'], ['new', 'Software Developer', 'Milano Software2.3', 'Temporarily Remote in Richmond Hill, ON', '$60,000 - $80,000 a year'], ['new', 'Software Engineer', 'Akamori Designs', 'Remote in Toronto, ON', '$20 - $32 an hour'], ['new', 'Software Developer', 'Interactive Sports Technologies Inc.', 'Concord, ON', '$20 - $29 an hour'], ['new', 'Software Engineer Intern', 'spaice', 'Markham, ON', '$20 an hour'], ['Full Stack Developer', 'iPartner Staffing4.5', 'Toronto, ON', '$55 - $65 an hour'], ['Computer Programmer', 'Highlight Motor Freight Inc.', 'Vaughan, ON', '$39 an hour'], ['Software Engineer | Front-End (Flutter)', 'CMiC3.2', 'Remote in Toronto, ON'], ['Software Engineer', 'Clutch Canada', 'Toronto, ON', '$90,000 - $155,000 a year'], ['Software Engineer', 'HSBC4.0', 'Toronto, ON'], ['Software Developer', 'Kelly Engineering', 'Greater Toronto Area, ON', '$80,000 - $120,000 a year'], ['new', 'Software Developer', 'Royal Bank of Canada4.0', 'Toronto, ON'], ['new', 'Software Engineer Intern', 'STAN', 'Scarborough, ON', '$20 - $30 an hour'], ['new', 'Software Engineer (Hybrid remote friendly)', 'Imagine Communications3.2', 'Remote in North York, ON'], ['Jr. Software Engineer - Lighthouse', 'KPMG3.9', 'Toronto, ON']]\n"
     ]
    }
   ],
   "source": [
    "'''\n",
    "The aim of the experiment is to see the difference in the salary of job search results when logged into \n",
    "an indeed account that contains my name and resume data compared to searching without being logged in.\n",
    "\n",
    "I will search for software engineering jobs. My metric will be the salary price displayed\n",
    "for me versus an anonymous user, in the first 15 results.\n",
    "'''\n",
    "\n",
    "import time\n",
    "\n",
    "from selenium import webdriver\n",
    "from webdriver_manager.chrome import ChromeDriverManager\n",
    "\n",
    "def indeed_login(driver):\n",
    "    # go to main website\n",
    "    driver.get(\"https://secure.indeed.com/auth\")\n",
    "\n",
    "    # enter account email\n",
    "    driver.find_element_by_id(\"ifl-InputFormField-3\").send_keys(EMAIL)\n",
    "    driver.find_elements_by_xpath(\"//span[contains(text(), 'Continue')]\")[-1].click()\n",
    "\n",
    "    # wait for page to load\n",
    "    time.sleep(3)\n",
    "\n",
    "    # authenticate with password\n",
    "    driver.find_element_by_id(\"ifl-InputFormField-121\").send_keys(INDEED_PASS)\n",
    "    driver.find_element_by_xpath(\"//span[contains(text(), 'Sign in')]\").click()\n",
    "\n",
    "def run_experiment(login: bool, driver):\n",
    "    # login if that option is enabled\n",
    "    if login:\n",
    "        indeed_login(driver)\n",
    "        file_name = \"login_job_search\"\n",
    "    else:\n",
    "        file_name = \"no_login_job_search\"\n",
    "    \n",
    "    # navigate to job search\n",
    "    driver.get(\"https://ca.indeed.com\")\n",
    "\n",
    "    # search for Software Engineering jobs in Toronto\n",
    "    what = driver.find_element_by_id(\"text-input-what\")\n",
    "    what.send_keys(\"software engineer\")\n",
    "    what.submit()\n",
    "\n",
    "    # find elements by ID\n",
    "    job_results = []\n",
    "    job_cards = driver.find_elements_by_class_name(\"jobCard_mainContent\")\n",
    "    for job in job_cards:\n",
    "        text = job.text\n",
    "        text = text.split('\\n')\n",
    "        job_results.append(text)\n",
    "    print(job_results)\n",
    "    return job_results\n",
    "\n",
    "# Note: we could run this in parallel but I start getting captcha verification\n",
    "# if there is too much suspicious actiivty so we create a new webdriver after \n",
    "# the first one is done\n",
    "driver_2 = webdriver.Chrome(ChromeDriverManager().install())\n",
    "login_results = run_experiment(login=True, driver=driver_2)\n",
    "driver_2.close()\n",
    "time.sleep(10)\n",
    "driver = webdriver.Chrome(ChromeDriverManager().install())\n",
    "no_login_results = run_experiment(login=False, driver=driver)\n",
    "driver.close()"
   ]
  },
  {
   "cell_type": "code",
   "execution_count": 74,
   "metadata": {},
   "outputs": [
    {
     "name": "stdout",
     "output_type": "stream",
     "text": [
      "For the login experiement:\n",
      "The average salary is: $97.00K with 10 samples\n",
      "The average hourly rate is: $38.62 with 4 samples\n",
      "No salary postings: 1\n",
      "\n",
      "\n",
      "For the no-login experiement:\n",
      "The average salary is: $91.88K with 4 samples\n",
      "The average hourly rate is: $32.42 with 6 samples\n",
      "No salary postings: 5\n"
     ]
    }
   ],
   "source": [
    "'''\n",
    "Here we will parse the results of the two results we saved from the experiment\n",
    "'''\n",
    "import re\n",
    "\n",
    "def parse_value(salary, type):\n",
    "    '''\n",
    "    A regex to parse the string with the salary ranges\n",
    "    '''\n",
    "    find = re.findall(r'\\d+',salary)\n",
    "    if len(find) == 4 and type == \"YEAR\":\n",
    "        value = (int(find[0]) + int(find[2]))/2\n",
    "    elif len(find) == 2 and type == \"HOUR\":\n",
    "        value = (int(find[0]) + int(find[1]))/2\n",
    "    else:\n",
    "        value = find[0]\n",
    "    return value\n",
    "\n",
    "def calculate_avg_salary(results):\n",
    "    '''\n",
    "    Calcuate the avg yearly salary, monthly salary and postings with no salaries \n",
    "    '''\n",
    "    avg_salary = 0\n",
    "    avg_hour_salary = 0\n",
    "    no_of_hourly_samples = 0\n",
    "    no_of_yearly_samples = 0\n",
    "    no_of_postings = 0\n",
    "\n",
    "    for result in results:\n",
    "        salary = result[-1]\n",
    "        if '$' in salary and 'a year' in salary:\n",
    "            value = parse_value(salary, \"YEAR\")\n",
    "            no_of_yearly_samples += 1\n",
    "            avg_salary += float(value)\n",
    "        elif '$' in salary and 'an hour':\n",
    "            value = parse_value(salary, \"HOUR\")\n",
    "            no_of_hourly_samples += 1\n",
    "            avg_hour_salary += float(value)\n",
    "\n",
    "        no_of_postings += 1\n",
    "    \n",
    "    avg_yearly = avg_salary/no_of_yearly_samples\n",
    "    avg_hourly = avg_hour_salary/no_of_hourly_samples\n",
    "    \n",
    "    print(f\"The average salary is: ${avg_yearly:.2f}K with {no_of_yearly_samples} samples\")\n",
    "    print(f\"The average hourly rate is: ${avg_hourly:.2f} with {no_of_hourly_samples} samples\")\n",
    "    print(f\"No salary postings: {no_of_postings-no_of_hourly_samples-no_of_yearly_samples}\")\n",
    "\n",
    "print(\"For the login experiement:\")\n",
    "calculate_avg_salary(login_results)\n",
    "print(\"\\n\")\n",
    "print(\"For the no-login experiement:\")\n",
    "calculate_avg_salary(no_login_results)"
   ]
  },
  {
   "cell_type": "markdown",
   "metadata": {},
   "source": [
    "The experiment:\n",
    "I implemented an experiment to search a job board website called Indeed and treat it with (A) being logged in using my resume data compared to (B) an anonymous user with no data. My resume includes 2 internships in various engineering roles and full time work for 1.5 years doing a software related job, totalling to 3 years of experience. I parsed the results and compared the data, looking at the average yearly salary range, hourly salary range and postings with no salary listed. The search critera was for \"Software Engineer\" jobs and the location was set to my browser location of Richmond Hill, ON (my hometown).\n",
    "\n",
    "The results:\n",
    "When logged in, the average salary I recieved was higher by around $6,000 and the hourly salary range was higher by around $6. There was only one posting shown in the first 15 results that had no salary data, compared to 5 postings for an anonymous user.\n",
    "\n",
    "The not logged in results contain postings for jr and intern software engineer, which could be because my hometown is an area with a lot of schools, and near some universities, so the average user is probably searching for internships. Whereas the postings I recieved did not include these results. The results I received also had more applied software positions relating to my past positions such as \"Robotics\" whereas without personalization this didn't show up. There are some results which are the same in both cases such as \"Interactive Sports Technologies Inc\". This is interesting because there is nothing on my resume that indicates I am interested in sports. Perhaps this shows how sponsored content might come into play with job listings.\n",
    "\n",
    "Further Ideas:\n",
    "A wider scale experiment with checking more postings would provide better insight into the data as opposed to looking at 15 postings. \n",
    "\n",
    "It would also be interesting to see if I changed details in my resume such as my name (to a male name) or age (to be older), to see if that made a difference in the search results."
   ]
  }
 ],
 "metadata": {
  "kernelspec": {
   "display_name": "Python 3",
   "language": "python",
   "name": "python3"
  },
  "language_info": {
   "codemirror_mode": {
    "name": "ipython",
    "version": 3
   },
   "file_extension": ".py",
   "mimetype": "text/x-python",
   "name": "python",
   "nbconvert_exporter": "python",
   "pygments_lexer": "ipython3",
   "version": "3.7.0"
  }
 },
 "nbformat": 4,
 "nbformat_minor": 4
}
