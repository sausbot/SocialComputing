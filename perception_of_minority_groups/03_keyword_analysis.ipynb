{
 "cells": [
  {
   "cell_type": "markdown",
   "metadata": {},
   "source": [
    "# Perception of Minority Groups in Switzerland \n",
    "## Analysis Part 2: Keyword Analysis\n",
    "From the 'Comment Analysis' section we got all the keywords from the full set of comments. Now we will get a frequency count of the keywords in order to see what topics are being discussed within each category."
   ]
  },
  {
   "cell_type": "code",
   "execution_count": 7,
   "metadata": {},
   "outputs": [],
   "source": [
    "import json\n",
    "import time\n",
    "\n",
    "from collections import Counter\n",
    "from csv import reader\n",
    "\n",
    "def keyword_counter(input_file):\n",
    "    with open (input_file) as read_obj:\n",
    "        csv_reader = reader(read_obj)\n",
    "\n",
    "        all_words = []\n",
    "        for row in csv_reader:\n",
    "            for word in row:\n",
    "                all_words.append(word)\n",
    "\n",
    "    my_counter = Counter(all_words)\n",
    "    most_occur = my_counter.most_common(20)\n",
    "    print(most_occur)\n",
    "    return(most_occur)"
   ]
  },
  {
   "cell_type": "code",
   "execution_count": 8,
   "metadata": {},
   "outputs": [
    {
     "name": "stdout",
     "output_type": "stream",
     "text": [
      "[('', 242), (\" 'switzerland'\", 33), (\" 'people'\", 32), (\" 'jews'\", 20), (\" 'know'\", 19), (\" 'jewish'\", 19), (\" 'think'\", 18), (\" 'religion'\", 18), (\" 'anti semitism'\", 15), (\" 'israel'\", 13), (\" 'study'\", 13), (\" 'lot'\", 13), (\" 'well'\", 13), (\" 'antisemitism'\", 12), (\" 'one'\", 11), (\" 'see'\", 11), (\" 'way'\", 10), (\" 'experience'\", 10), (\" 'country'\", 9), (\" 'say'\", 9)]\n"
     ]
    }
   ],
   "source": [
    "jewish_keyword_count = keyword_counter('keyword_jewish_extracted.csv')"
   ]
  },
  {
   "cell_type": "code",
   "execution_count": 9,
   "metadata": {},
   "outputs": [
    {
     "name": "stdout",
     "output_type": "stream",
     "text": [
      "[('', 831), (\" 'switzerland'\", 83), (\" 'people'\", 77), (\" 'women'\", 73), (\" 'religion'\", 70), (\" 'want'\", 55), (\" 'wear'\", 52), (\" 'think'\", 51), (\" 'muslims'\", 44), (\" 'know'\", 43), (\" 'would'\", 41), (\" 'vote'\", 40), (\" 'islam'\", 36), (\" 'live'\", 33), (\" 'law'\", 33), (\" 'one'\", 31), (\" 'initiative'\", 31), (\" 'svp'\", 30), (\" 'face'\", 30), (\" 'see'\", 29)]\n"
     ]
    }
   ],
   "source": [
    "muslim_keyword_count = keyword_counter('keyword_muslim_extracted.csv')"
   ]
  },
  {
   "cell_type": "code",
   "execution_count": 10,
   "metadata": {},
   "outputs": [
    {
     "name": "stdout",
     "output_type": "stream",
     "text": [
      "[('', 2326), (\" 'people'\", 302), (\" 'switzerland'\", 286), (\" 'think'\", 213), (\" 'racism'\", 202), (\" 'racist'\", 171), (\" 'want'\", 156), (\" 'know'\", 153), (\" 'lot'\", 148), (\" 'swiss'\", 119), (\" 'one'\", 112), (\" 'country'\", 111), (\" 'see'\", 110), (\" 'get'\", 107), (\" 'way'\", 107), (\" 'like'\", 106), (\" 'make'\", 101), (\" 'would'\", 99), (\" 'name'\", 91), (\" 'time'\", 91)]\n"
     ]
    }
   ],
   "source": [
    "black_people_keyword_count = keyword_counter('keyword_black_extracted.csv')"
   ]
  },
  {
   "cell_type": "markdown",
   "metadata": {},
   "source": [
    "## Creating Bar Graphs"
   ]
  },
  {
   "cell_type": "code",
   "execution_count": null,
   "metadata": {},
   "outputs": [],
   "source": [
    "import matplotlib.pyplot as plt\n",
    "\n",
    "word_list = []\n",
    "word_freq = []\n",
    "\n",
    "for topic in [jewish_keyword_count, muslim_keyword_count, black_people_keyword_count]:\n",
    "    for my_tuple in topic:\n",
    "        res = \"\"\n",
    "        for ch in my_tuple[0]:\n",
    "            if ch.isalpha():\n",
    "                res+=ch\n",
    "        word_list.append(res)\n",
    "        word_freq.append(my_tuple[1])\n",
    "\n",
    "    word_list.pop(0)\n",
    "    word_freq.pop(0)\n",
    "\n",
    "    plt.figure(1.5, [15, 8]) # this line moved and figure size changed to suit data\n",
    "    plt.title(label=\"Top 20 Keyword Count\")\n",
    "    plt.ylabel(\"Word Count\")\n",
    "    plt.xlabel(\"Keyword\")\n",
    "    plt.bar(word_list, word_freq)\n",
    "    plt.xticks(\n",
    "        rotation=45, \n",
    "        fontweight='light',\n",
    "    )\n",
    "    plt.tight_layout()"
   ]
  },
  {
   "cell_type": "markdown",
   "metadata": {},
   "source": [
    "## Phrase Scoring with RAKE\n",
    "Another method to see what is being discussed is to use RAKE library to get the top scored phrases. We attempted to do this, but since you can only provide one stopword dictionary, and some of the comments contained German or Swiss German, automated cleaning to remove all these comments was not so straightforward, so the results here are not so concise, however it can still give an idea of the topics being discussed in the forum for each category."
   ]
  },
  {
   "cell_type": "code",
   "execution_count": 64,
   "metadata": {},
   "outputs": [],
   "source": [
    "import json\n",
    "import time\n",
    "import RAKE\n",
    "from csv import writer, reader\n",
    "from googleapiclient import discovery\n",
    "\n",
    "stop_dir = 'SmartStoplist.txt'\n",
    "rake_obj = RAKE.Rake(stop_dir)\n",
    "\n",
    "def keyword_analysis(input_file):\n",
    "    with open (input_file) as read_obj:\n",
    "        csv_reader = reader(read_obj)\n",
    "\n",
    "        # Skip header\n",
    "        next(csv_reader)\n",
    "        \n",
    "        all_comments = ' '\n",
    "        for row in csv_reader:\n",
    "            comment = row[4]\n",
    "            all_comments = all_comments + '. ' + comment\n",
    "\n",
    "    keywords = sort_tuple(rake_obj.run(all_comments))[-50:]\n",
    "    print(keywords)\n",
    "    return(keywords)\n",
    "\n",
    "def sort_tuple(tuple):\n",
    "    tuple.sort(key=lambda x: x[1])\n",
    "    return tuple"
   ]
  }
 ],
 "metadata": {
  "interpreter": {
   "hash": "d49c3f6d6dd49f9272b571d9fad348ab55b8c6c3f691520d74ed0af1f69c3dd8"
  },
  "kernelspec": {
   "display_name": "Python 3.7.0 64-bit",
   "language": "python",
   "name": "python3"
  },
  "language_info": {
   "codemirror_mode": {
    "name": "ipython",
    "version": 3
   },
   "file_extension": ".py",
   "mimetype": "text/x-python",
   "name": "python",
   "nbconvert_exporter": "python",
   "pygments_lexer": "ipython3",
   "version": "3.7.0"
  },
  "orig_nbformat": 4
 },
 "nbformat": 4,
 "nbformat_minor": 2
}
